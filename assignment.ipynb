{
 "cells": [
  {
   "cell_type": "markdown",
   "id": "7b32cfed",
   "metadata": {},
   "source": [
    "# User Interface of the Gabriele Russo's RT1 third assignment"
   ]
  },
  {
   "cell_type": "code",
   "execution_count": 1,
   "id": "a91567b0",
   "metadata": {
    "ExecuteTime": {
     "end_time": "2024-09-10T19:44:04.841363Z",
     "start_time": "2024-09-10T19:44:03.808152Z"
    }
   },
   "outputs": [],
   "source": [
    "%reset -f\n",
    "# enables interactive plots within the Jupyter Notebook\n",
    "%matplotlib widget "
   ]
  },
  {
   "cell_type": "markdown",
   "id": "b931ee76",
   "metadata": {},
   "source": [
    "## Libraries"
   ]
  },
  {
   "cell_type": "code",
   "execution_count": 2,
   "id": "a42204bd",
   "metadata": {
    "ExecuteTime": {
     "end_time": "2024-09-10T19:44:07.701362Z",
     "start_time": "2024-09-10T19:44:06.008155Z"
    }
   },
   "outputs": [],
   "source": [
    "from rt1_third_assignment.srv import Goal, GoalRequest, Interface, InterfaceRequest\n",
    "from matplotlib.backends.backend_nbagg import FigureCanvasNbAgg as FigureCanvas\n",
    "from matplotlib.animation import FuncAnimation\n",
    "from actionlib_msgs.msg import GoalStatusArray\n",
    "from sensor_msgs.msg import LaserScan\n",
    "from geometry_msgs.msg import Twist\n",
    "from std_msgs.msg import String\n",
    "# for handling odometry messages\n",
    "from nav_msgs.msg import Odometry \n",
    "# imports display functions from 'IPython.display'\n",
    "from IPython.display import display, HTML, clear_output\n",
    "from ipywidgets import HBox, VBox, FloatSlider, Label\n",
    "# for plotting\n",
    "import matplotlib.pyplot as plt \n",
    "# for creating interactive widgets in the notebook\n",
    "import ipywidgets as widgets \n",
    "# for ROS integration\n",
    "import jupyros as jr \n",
    "import rospy   \n",
    "# for numerical operations\n",
    "import numpy as np \n",
    "from jupyros import ros3d\n",
    "import math\n",
    "import os"
   ]
  },
  {
   "cell_type": "markdown",
   "id": "11e24d87",
   "metadata": {},
   "source": [
    "## Definition of the global variables and services\n",
    "In this section are defined the variable goal_status_count and the color mapping, very important variable needed for construct the Histogram and the pie chart on the Goal status."
   ]
  },
  {
   "cell_type": "code",
   "execution_count": 3,
   "id": "1fb38312",
   "metadata": {
    "ExecuteTime": {
     "end_time": "2024-09-10T19:44:17.630342Z",
     "start_time": "2024-09-10T19:44:17.626059Z"
    }
   },
   "outputs": [],
   "source": [
    "# Global counters\n",
    "goal_status_count = {\n",
    "    'Succeeded': 0,\n",
    "    'Aborted': 0,\n",
    "    'Cancelled': 0\n",
    "}\n",
    "# Define the color mapping for statuses\n",
    "color_mapping = {\n",
    "    'Succeeded': 'green',\n",
    "    'Aborted': 'red',\n",
    "    'Cancelled': 'orange'\n",
    "}"
   ]
  },
  {
   "cell_type": "markdown",
   "id": "a9646ed5",
   "metadata": {},
   "source": [
    "Then, we have all the output variables, used in order to have in output specific messages when the buttons are clicked."
   ]
  },
  {
   "cell_type": "code",
   "execution_count": 4,
   "id": "9811eeb4",
   "metadata": {
    "ExecuteTime": {
     "end_time": "2024-09-10T19:44:19.235329Z",
     "start_time": "2024-09-10T19:44:19.214920Z"
    }
   },
   "outputs": [],
   "source": [
    "# Creates an output widget to display outputs within the notebook\n",
    "output_scan = widgets.Output()\n",
    "output_ui = widgets.Output()\n",
    "# Output area for the teleop control\n",
    "teleop_output = widgets.Output()"
   ]
  },
  {
   "cell_type": "markdown",
   "id": "fb04e480",
   "metadata": {},
   "source": [
    "The 'update_status_count' is a function used to update the variables in the goal status dictionary."
   ]
  },
  {
   "cell_type": "code",
   "execution_count": 5,
   "id": "3bed23e2",
   "metadata": {
    "ExecuteTime": {
     "end_time": "2024-09-10T19:44:20.154705Z",
     "start_time": "2024-09-10T19:44:20.148880Z"
    }
   },
   "outputs": [],
   "source": [
    "# function to update the status counts\n",
    "def update_status_counts(status):\n",
    "    global goal_status_count\n",
    "    if status in goal_status_count:\n",
    "        goal_status_count[status] += 1\n",
    "    else:\n",
    "        goal_status_count[status] = 1"
   ]
  },
  {
   "cell_type": "markdown",
   "id": "6c2d4879",
   "metadata": {},
   "source": [
    "Lastly, are defined:\n",
    "* definition of the ros node 'user_interface'\n",
    "* definition of the client of the 'goal_position' service\n",
    "* definition of the client of the \"command\" service used to send the user commands to the controller node"
   ]
  },
  {
   "cell_type": "code",
   "execution_count": 6,
   "id": "95d8ef08",
   "metadata": {
    "ExecuteTime": {
     "end_time": "2024-09-10T19:44:21.263720Z",
     "start_time": "2024-09-10T19:44:20.973608Z"
    }
   },
   "outputs": [],
   "source": [
    "# initialize the ROS node\n",
    "rospy.init_node(\"user_interface\")\n",
    "# Define the ROS service clients\n",
    "client_goal = rospy.ServiceProxy(\"/goal_position\", Goal)\n",
    "client_interface = rospy.ServiceProxy(\"/commands\", Interface)"
   ]
  },
  {
   "cell_type": "markdown",
   "id": "4210c41d",
   "metadata": {},
   "source": [
    "## Tracker Class\n",
    "This class is used in order to track in real time the postion of the robot and plot it using the 'FuncAnimation'.\n",
    "It also plot a figure that shows the robot position and orientation with respect to the obstacle detected by the laser scan. In this case it works with a button, therefore, if the user click the button the plot is updated and shows the current obstacle detected and the closest obstacle to the robot"
   ]
  },
  {
   "cell_type": "code",
   "execution_count": 7,
   "id": "513a7a58",
   "metadata": {
    "ExecuteTime": {
     "end_time": "2024-09-10T19:44:22.089327Z",
     "start_time": "2024-09-10T19:44:22.072571Z"
    }
   },
   "outputs": [],
   "source": [
    "# PLOT: Travelled Path\n",
    "class Tracker:\n",
    "    \n",
    "    def __init__(self):\n",
    "        \n",
    "        # create the figures and subplots inside the class\n",
    "        self.fig1, self.ax1 = plt.subplots(figsize=(6, 5))\n",
    "        self.fig2, self.ax2 = plt.subplots(figsize=(6, 5))\n",
    "        \n",
    "        # initialize the first plot for the Robot Tracker\n",
    "        self.ln_odom, = self.ax1.plot([], [], 'ro', label=\"Robot Tracking\")\n",
    "        self.ln_goal, = self.ax1.plot([], [], 'b*', label=\"Goal Position\")\n",
    "        self.ax1.legend(handles=[self.ln_odom, self.ln_goal], loc = \"upper right\")\n",
    "        \n",
    "        # initialize the second plot for Laser Scan\n",
    "        self.ln_scan, = self.ax2.plot([], [], 'go', label=\"Laser Scan\")\n",
    "        self.ln_closest_obstacle, = self.ax2.plot([], [], 'rx',label=\"Closest Obstacle\", markersize=10)\n",
    "        #self.ax[1].legend(handles=[self.ln_scan, self.ln_closest_obstacle], loc = \"upper right\")\n",
    "        self.robot_marker, = self.ax2.plot([], [], 'bo', label=\"Robot\")  # Robot position\n",
    "        self.robot_arrow = self.ax2.arrow(0, 0, 1, 0, head_width=0.5, head_length=1, fc='blue', ec='blue')  # Arrow for orientation\n",
    "        \n",
    "        self.ax2.legend(loc=\"upper right\")\n",
    "        \n",
    "        # initializes empty lists to store the odometry data\n",
    "        self.x_odom_data, self.y_odom_data = [], []\n",
    "        self.x_goal_data, self.y_goal_data = [], []\n",
    "        \n",
    "        # Variables for scan data\n",
    "        self.laser_data = []\n",
    "        self.min_distance = None\n",
    "        self.min_angle = None\n",
    "        \n",
    "        # Initialize the figure and plots\n",
    "        self.plot_init()\n",
    "        \n",
    "        # set up FuncAnimation to update the first subplot automatically\n",
    "        self.anim = FuncAnimation(self.fig1, self.update_plot, init_func=self.plot_init, blit=True, interval=1000)\n",
    "        \n",
    "    def plot_init(self):\n",
    "        # initialize the first subplot\n",
    "        self.ax1.set_xlim(-10, 10)\n",
    "        self.ax1.set_ylim(-10, 10)\n",
    "        self.ax1.set_title(\"Robot Tracker\")\n",
    "        self.ax1.set_xlabel(\"X\")\n",
    "        self.ax1.set_ylabel(\"Y\")\n",
    "        self.ax1.grid(True)\n",
    "        \n",
    "        # initialize the second subplot\n",
    "        self.ax2.set_xlim(-10, 10)\n",
    "        self.ax2.set_ylim(-10, 10)\n",
    "        self.ax2.set_title(\"Obstacle Detected\")\n",
    "        self.ax2.set_xlabel(\"X\")\n",
    "        self.ax2.set_ylabel(\"Y\")\n",
    "        self.ax2.grid(True)\n",
    "    \n",
    "    # defines a callback function that appends \n",
    "    # the robot's position data (x and y coordinates) \n",
    "    # to x_data and y_data whenever an odometry message is received\n",
    "    def odom_callback(self, msg):\n",
    "        self.y_odom_data.append(msg.pose.pose.position.y)\n",
    "        self.x_odom_data.append(msg.pose.pose.position.x)\n",
    "        \n",
    "    def goal_callback(self, x, y):\n",
    "        self.x_goal_data.clear()\n",
    "        self.y_goal_data.clear()      \n",
    "        self.x_goal_data.append(float(x))\n",
    "        self.y_goal_data.append(float(y))\n",
    "        \n",
    "    def scan_callback(self, msg):\n",
    "        self.laser_data = list(msg.ranges)\n",
    "        # calculate the closest obstacle's distance and its angle\n",
    "        self.min_distance = min(self.laser_data)\n",
    "        self.min_angle = np.argmin(self.laser_data) * msg.angle_increment + msg.angle_min\n",
    "        \n",
    "    def update_plot(self, frame):\n",
    "        # ipdate the first subplot (automatically updated by funcanimation)\n",
    "        self.ln_odom.set_data(self.x_odom_data, self.y_odom_data)\n",
    "        self.ln_goal.set_data(self.x_goal_data, self.y_goal_data)\n",
    "\n",
    "    def update_plot_obstacle(self):\n",
    "        # Clear and update the second plot (Laser Scan)\n",
    "        self.ax2.cla()\n",
    "        # Plot the laser scan data\n",
    "        angles = np.linspace(-np.pi/2, np.pi/2, len(self.laser_data))\n",
    "        x_scan = np.cos(angles) * self.laser_data\n",
    "        y_scan = np.sin(angles) * self.laser_data\n",
    "        self.ax2.plot(x_scan, y_scan, 'go', label=\"Laser Scan\")\n",
    "\n",
    "        # Mark the closest obstacle\n",
    "        closest_x = np.cos(self.min_angle) * self.min_distance\n",
    "        closest_y = np.sin(self.min_angle) * self.min_distance\n",
    "        self.ax2.plot(closest_x, closest_y, 'rx', label=\"Closest Obstacle\", markersize=10)\n",
    "\n",
    "        # Plot the robot's position and orientation\n",
    "        self.ax2.plot(0, 0, 'bo', label=\"Robot\")  # Robot's position at the origin\n",
    "        self.ax2.arrow(0, 0, 1, 0, head_width=0.5, head_length=1, fc='blue', ec='blue')  # Arrow pointing forward\n",
    "\n",
    "        # Set plot limits and labels\n",
    "        self.ax2.set_xlim(-10, 10)\n",
    "        self.ax2.set_ylim(-10, 10)\n",
    "        self.ax2.set_title(f\"Closest Obstacle Detected: {self.min_distance:.2f} meters, angle: {math.degrees(self.min_angle):.2f} degrees\", fontsize=10)\n",
    "        self.ax2.set_xlabel(\"X\")\n",
    "        self.ax2.set_ylabel(\"Y\")\n",
    "        self.ax2.grid(True)\n",
    "        self.ax2.legend(loc=\"upper right\")\n",
    "\n",
    "        # Redraw the second plot\n",
    "        self.fig2.canvas.draw_idle()\n"
   ]
  },
  {
   "cell_type": "markdown",
   "id": "af840b07",
   "metadata": {},
   "source": [
    "## TeleopControl Class\n",
    "This class implements the keyboard that the user can use in the manuale and assisted drive mode, in order to teleop and control the robot, only clicking the specific button of the keyboard. (in the previous version, this was done by the teleop twist node)"
   ]
  },
  {
   "cell_type": "code",
   "execution_count": 8,
   "id": "c7cb2d16",
   "metadata": {
    "ExecuteTime": {
     "end_time": "2024-09-10T19:44:23.084356Z",
     "start_time": "2024-09-10T19:44:22.959540Z"
    }
   },
   "outputs": [],
   "source": [
    "class TeleopControl:\n",
    "    def __init__(self):\n",
    "        # publisher for the velocity command\n",
    "        self.cmd_vel_pub = rospy.Publisher('/cmd_vel', Twist, queue_size=10)\n",
    "        \n",
    "        # Create sliders for linear and angular velocities\n",
    "        self.linear_slider = widgets.FloatSlider(value=0.5, min=0, max=2, step=0.1, description='Linear Vel')\n",
    "        self.angular_slider = widgets.FloatSlider(value=0.5, min=0, max=2, step=0.1, description='Angular Vel')\n",
    "        \n",
    "        # create buttons for control\n",
    "        self.forward_button = widgets.Button(description=\"Forward\", style={'button_color': 'orange'})\n",
    "        self.backward_button = widgets.Button(description=\"Backward\", style={'button_color': 'orange'})\n",
    "        self.left_button = widgets.Button(description=\"Left\", style={'button_color': 'orange'})\n",
    "        self.right_button = widgets.Button(description=\"Right\", style={'button_color': 'orange'})\n",
    "        self.stop_button = widgets.Button(description=\"Stop\", style={'button_color': 'lightcoral'})\n",
    "        self.empty = widgets.Button(description='')\n",
    "        \n",
    "        # Display buttons in a layout\n",
    "        self.control_box = widgets.HBox([\n",
    "            widgets.VBox([  # Teleop buttons on the left\n",
    "                widgets.HBox([widgets.Button(description=''), self.forward_button, widgets.Button(description='')]),  # Center the Forward button\n",
    "                widgets.HBox([self.left_button, self.stop_button, self.right_button]),\n",
    "                widgets.HBox([widgets.Button(description=''), self.backward_button, widgets.Button(description='')])  # Center the Backward button\n",
    "            ]),\n",
    "            widgets.VBox([  # Sliders on the right\n",
    "                self.linear_slider,\n",
    "                self.angular_slider\n",
    "            ])\n",
    "        ])\n",
    "        \n",
    "        \n",
    "        # Initially hide the control box\n",
    "        self.control_box.layout.display = 'none'\n",
    "        \n",
    "        # Output widget to show current state\n",
    "        self.output = widgets.Output()\n",
    "        \n",
    "        # Assign functions to buttons\n",
    "        self.forward_button.on_click(self.move_forward)\n",
    "        self.backward_button.on_click(self.move_backward)\n",
    "        self.left_button.on_click(self.turn_left)\n",
    "        self.right_button.on_click(self.turn_right)\n",
    "        self.stop_button.on_click(self.stop_robot)\n",
    "        \n",
    "    def show(self):\n",
    "        self.control_box.layout.display = 'block'\n",
    "        \n",
    "    def hide(self):\n",
    "        self.control_box.layout.display = 'none'\n",
    "        \n",
    "    def publish_twist(self, linear_x=0.0, linear_y=0.0, linear_z=0.0, angular_x=0.0, angular_y=0.0, angular_z=0.0):\n",
    "        twist = Twist()\n",
    "        twist.linear.x = linear_x\n",
    "        twist.linear.y = linear_y\n",
    "        twist.linear.z = linear_z\n",
    "        twist.angular.x = angular_x\n",
    "        twist.angular.y = angular_y\n",
    "        twist.angular.z = angular_z\n",
    "        self.cmd_vel_pub.publish(twist)\n",
    "        \n",
    "    def move_forward(self, b):\n",
    "        linear_velocity = self.linear_slider.value\n",
    "        self.publish_twist(linear_x=linear_velocity)\n",
    "        with self.output:\n",
    "            self.output.clear_output(wait=True)\n",
    "            print(f\"Moving Forward with linear velocity: {linear_velocity}\")\n",
    "        \n",
    "    def move_backward(self, b):\n",
    "        linear_velocity = self.linear_slider.value\n",
    "        self.publish_twist(linear_x=-linear_velocity)\n",
    "        with self.output:\n",
    "            self.output.clear_output(wait=True)\n",
    "            print(f\"Moving Backward with linear velocity: {linear_velocity}\")\n",
    "        \n",
    "    def turn_left(self, b):\n",
    "        angular_velocity = self.angular_slider.value\n",
    "        self.publish_twist(angular_z=angular_velocity)\n",
    "        with self.output:\n",
    "            self.output.clear_output(wait=True)\n",
    "            print(f\"Turning Left with angular velocity: {angular_velocity}\")\n",
    "        \n",
    "    def turn_right(self, b):\n",
    "        angular_velocity = self.angular_slider.value\n",
    "        self.publish_twist(angular_z=-angular_velocity)\n",
    "        with self.output:\n",
    "            self.output.clear_output(wait=True)\n",
    "            print(f\"Turning Right with angular velocity: {angular_velocity}\")\n",
    "            \n",
    "    def stop_robot(self, b):\n",
    "        self.publish_twist()  # No movement, zero velocities\n",
    "        with self.output:\n",
    "            self.output.clear_output(wait=True)\n",
    "            print(\"Stopping\")"
   ]
  },
  {
   "cell_type": "markdown",
   "id": "8a892c0d",
   "metadata": {},
   "source": [
    "Callback function which updates the goal_status_count dictionary, through the update_status_counts function"
   ]
  },
  {
   "cell_type": "code",
   "execution_count": 9,
   "id": "1d0cca69",
   "metadata": {
    "ExecuteTime": {
     "end_time": "2024-09-10T19:44:24.305342Z",
     "start_time": "2024-09-10T19:44:24.301800Z"
    }
   },
   "outputs": [],
   "source": [
    "def goal_status_callback(msg):\n",
    "    if msg.data == \"Goal Reached\":\n",
    "        update_status_counts(\"Succeeded\")\n",
    "        with output_ui:\n",
    "            print(\"Goal Reached!\")\n",
    "    elif msg.data == \"Goal Not Reachable\":\n",
    "        update_status_counts(\"Aborted\")\n",
    "        with output_ui:\n",
    "            print(\"Goal Not Reachable!\")"
   ]
  },
  {
   "cell_type": "markdown",
   "id": "dd9406ee",
   "metadata": {},
   "source": [
    "## 3D map visualization settings\n",
    "here are defined all the settings used to show the simulation directly here on the notebook thanks to Jupyros"
   ]
  },
  {
   "cell_type": "code",
   "execution_count": 10,
   "id": "55b909bc",
   "metadata": {
    "ExecuteTime": {
     "end_time": "2024-09-10T19:44:25.291665Z",
     "start_time": "2024-09-10T19:44:25.251863Z"
    }
   },
   "outputs": [],
   "source": [
    "# 3D map\n",
    "map_3d = ros3d.Viewer()\n",
    "rc = ros3d.ROSConnection(url = 'ws://localhost:9090')\n",
    "tf_client = ros3d.TFClient(ros = rc, fixed_frame = 'link_chassis')\n",
    "laser_view = ros3d.LaserScan(topic = '/scan', ros = rc, tf_client = tf_client)\n",
    "map_view = ros3d.OccupancyGrid(topic = '/map', ros = rc, tf_client = tf_client, continuous = True)\n",
    "path = ros3d.Path(topic = '/move_base/NavfnROS/plan', ros = rc,tf_client = tf_client)\n",
    "urdf = ros3d.URDFModel(ros = rc, tf_client = tf_client,path=os.environ.get('JUPYROS_ASSETS_URL', 'http://localhost:3000'))\n",
    "g = ros3d.GridModel()\n",
    "map_3d.objects = [g, laser_view, map_view, path, urdf]\n",
    "map_3d.layout.width = '100%'"
   ]
  },
  {
   "cell_type": "markdown",
   "id": "0c7a026c",
   "metadata": {},
   "source": [
    "## Buttons definition and settings"
   ]
  },
  {
   "cell_type": "code",
   "execution_count": 11,
   "id": "92b0d8c6",
   "metadata": {
    "ExecuteTime": {
     "end_time": "2024-09-10T19:44:26.184632Z",
     "start_time": "2024-09-10T19:44:26.170333Z"
    }
   },
   "outputs": [],
   "source": [
    "# define the buttons with custom colors, increased size and bold text\n",
    "button_layout = widgets.Layout(width='150px', height='50px', font_size='20px')"
   ]
  },
  {
   "cell_type": "code",
   "execution_count": 12,
   "id": "ab178bec",
   "metadata": {
    "ExecuteTime": {
     "end_time": "2024-09-10T19:44:27.258712Z",
     "start_time": "2024-09-10T19:44:27.166587Z"
    }
   },
   "outputs": [],
   "source": [
    "# define the buttons with custom colors\n",
    "auto_button = widgets.Button(description=\"Auto Drive\", style={'button_color': 'red'}, layout=widgets.Layout(width='150px', height='50px', font_size='20px'))\n",
    "manual_button = widgets.Button(description=\"Manual Drive\", style={'button_color': 'magenta'}, layout=widgets.Layout(width='150px', height='50px', font_size='20px'))\n",
    "assisted_button = widgets.Button(description=\"Assisted Drive\", style={'button_color': 'cyan'}, layout=widgets.Layout(width='150px', height='50px', font_size='20px'))\n",
    "cancel_button = widgets.Button(description=\"Cancel Goal\", style={'button_color': 'orange'}, layout=widgets.Layout(width='150px', height='50px', font_size='20px'))\n",
    "submit_button = widgets.Button(description=\"Submit\", style={'button_color': 'lightgreen'}, layout=widgets.Layout(width='150px', height='50px', font_size='20px'))\n",
    "show_obstacle_button = widgets.Button(description=\"Show Detected Obstacle\", style={'button_color': 'gold'}, layout=widgets.Layout(width='150px', height='50px', font_size='20px'))\n",
    "goal_button = widgets.Button(description=\"Plot Goal Statuses\", style={'button_color': 'lightcoral'}, layout=widgets.Layout(width='150px', height='50px', font_size='20px'))"
   ]
  },
  {
   "cell_type": "code",
   "execution_count": 13,
   "id": "c6f8f5ff",
   "metadata": {
    "ExecuteTime": {
     "end_time": "2024-09-10T19:44:28.237636Z",
     "start_time": "2024-09-10T19:44:28.216139Z"
    }
   },
   "outputs": [],
   "source": [
    "# define the input fields for X and Y positions\n",
    "x_position = widgets.FloatText(description=\"X Position\")\n",
    "y_position = widgets.FloatText(description=\"Y Position\")"
   ]
  },
  {
   "cell_type": "code",
   "execution_count": 14,
   "id": "ae5e8137",
   "metadata": {
    "ExecuteTime": {
     "end_time": "2024-09-10T19:44:29.514652Z",
     "start_time": "2024-09-10T19:44:29.499384Z"
    }
   },
   "outputs": [],
   "source": [
    "# initially hide the input fields\n",
    "x_position.layout.display = 'none'\n",
    "y_position.layout.display = 'none'\n",
    "submit_button.layout.display = 'none'\n",
    "cancel_button.layout.display = 'none'"
   ]
  },
  {
   "cell_type": "markdown",
   "id": "557b82c8",
   "metadata": {},
   "source": [
    "## Functions associated to the buttons"
   ]
  },
  {
   "cell_type": "code",
   "execution_count": 15,
   "id": "11535665",
   "metadata": {
    "ExecuteTime": {
     "end_time": "2024-09-10T19:44:30.418803Z",
     "start_time": "2024-09-10T19:44:30.410645Z"
    }
   },
   "outputs": [],
   "source": [
    "# calculate the explode parameter dynamically\n",
    "# used in order to avoid bad graphical visualization of the pie chart, when there are not goal status or they are few\n",
    "def calculate_explode(c):\n",
    "    if len(c) > 0:\n",
    "        max_index = c.index(max(c))\n",
    "        explode = [0] * len(c)\n",
    "        # explode the slice with the maximum value\n",
    "        explode[max_index] = 0.1\n",
    "        return explode\n",
    "    else:\n",
    "        return None"
   ]
  },
  {
   "cell_type": "code",
   "execution_count": 16,
   "id": "636b38c5",
   "metadata": {
    "ExecuteTime": {
     "end_time": "2024-09-10T19:44:31.258625Z",
     "start_time": "2024-09-10T19:44:31.242466Z"
    }
   },
   "outputs": [],
   "source": [
    "def plot_goal_statuses():\n",
    "    # Clear the previous plot\n",
    "    clear_output(wait=True)\n",
    "    \n",
    "    # Extract data for plotting\n",
    "    statuses = list(goal_status_count.keys())\n",
    "    counts = list(goal_status_count.values())\n",
    "    \n",
    "    # filter out zero values to avoid issues in the pie chart\n",
    "    non_zero_counts = [count for count in counts if count > 0]\n",
    "    non_zero_statuses = [status for status, count in zip(statuses, counts) if count > 0]\n",
    "    non_zero_colors = [color_mapping[status] for status in non_zero_statuses]\n",
    "    \n",
    "    explode = calculate_explode(non_zero_counts)\n",
    "    \n",
    "    # create the figure with subplots\n",
    "    fig, axs = plt.subplots(1, 2, figsize=(10, 5))\n",
    "    \n",
    "    # Adjust spacing between subplots to prevent overlap\n",
    "    plt.subplots_adjust(wspace=0.5)  # Increase space between the plots\n",
    "    \n",
    "    #plot the bar chart on the first subplot\n",
    "    axs[0].bar(statuses, counts, color=[\"green\", \"red\", \"orange\"])\n",
    "    axs[0].set_title('Goal Status Counts')\n",
    "    axs[0].set_xlabel('Goal Status')\n",
    "    axs[0].set_ylabel('Count')\n",
    "    \n",
    "    # plot the pie chart on the second subplot\n",
    "    axs[1].pie(non_zero_counts, explode=explode, labels=non_zero_statuses, colors=non_zero_colors, autopct='%1.1f%%', shadow=True, startangle=90)\n",
    "    # equal aspect ratio ensures that pie is drawn as a circle\n",
    "    axs[1].axis('equal')\n",
    "    axs[1].set_title('Goal Status Distribution')\n",
    "    \n",
    "    # display the plot\n",
    "    plt.show()\n",
    "    \n",
    "    # Display the button again so it's always available\n",
    "    display(goal_button)"
   ]
  },
  {
   "cell_type": "code",
   "execution_count": 17,
   "id": "6ec57fc2",
   "metadata": {
    "ExecuteTime": {
     "end_time": "2024-09-10T19:44:32.113630Z",
     "start_time": "2024-09-10T19:44:32.110887Z"
    }
   },
   "outputs": [],
   "source": [
    "def show_goal_status(b):\n",
    "    plot_goal_statuses()"
   ]
  },
  {
   "cell_type": "code",
   "execution_count": 18,
   "id": "35153870",
   "metadata": {
    "ExecuteTime": {
     "end_time": "2024-09-10T19:44:32.950651Z",
     "start_time": "2024-09-10T19:44:32.943302Z"
    }
   },
   "outputs": [],
   "source": [
    "def show_obstacle(b):\n",
    "    robot_position.update_plot_obstacle()\n",
    "    plt.draw()"
   ]
  },
  {
   "cell_type": "code",
   "execution_count": 19,
   "id": "ffe7fefe",
   "metadata": {
    "ExecuteTime": {
     "end_time": "2024-09-10T19:44:33.891653Z",
     "start_time": "2024-09-10T19:44:33.750545Z"
    }
   },
   "outputs": [],
   "source": [
    "teleop = TeleopControl()"
   ]
  },
  {
   "cell_type": "code",
   "execution_count": 20,
   "id": "3a061add",
   "metadata": {
    "ExecuteTime": {
     "end_time": "2024-09-10T19:44:34.598653Z",
     "start_time": "2024-09-10T19:44:34.585241Z"
    }
   },
   "outputs": [],
   "source": [
    "# function to display the teleop interface\n",
    "def show_teleop_interface():\n",
    "     with teleop_output:\n",
    "        clear_output(wait=True)\n",
    "        display(teleop.control_box)  # Display the control box\n",
    "        teleop.show()"
   ]
  },
  {
   "cell_type": "code",
   "execution_count": 21,
   "id": "d8c4e175",
   "metadata": {
    "ExecuteTime": {
     "end_time": "2024-09-10T19:44:35.713632Z",
     "start_time": "2024-09-10T19:44:35.699598Z"
    }
   },
   "outputs": [],
   "source": [
    "# function to hide the teleop interface\n",
    "def hide_teleop_interface():\n",
    "    teleop.hide()\n",
    "    with teleop_output:\n",
    "        clear_output(wait=True)\n",
    "        # instantiate the teleopcontrol class\n",
    "    "
   ]
  },
  {
   "cell_type": "code",
   "execution_count": 22,
   "id": "4cbe6916",
   "metadata": {
    "ExecuteTime": {
     "end_time": "2024-09-10T19:44:36.685623Z",
     "start_time": "2024-09-10T19:44:36.681482Z"
    }
   },
   "outputs": [],
   "source": [
    "# Function to handle auto drive mode\n",
    "def auto_drive(b):\n",
    "    \n",
    "    hide_teleop_interface()\n",
    "    \n",
    "    com = InterfaceRequest()\n",
    "    # ord is needed in order to transform the char 'a' in the ASCII corresponding integer\n",
    "    com.command = ord('a')\n",
    "    client_interface.wait_for_service()\n",
    "    client_interface.call(com)\n",
    "    \n",
    "    # make the x and y position inputs visible\n",
    "    x_position.layout.display = 'block'\n",
    "    y_position.layout.display = 'block'\n",
    "    submit_button.layout.display = 'block'\n",
    "    cancel_button.layout.display = 'block'\n",
    "        \n",
    "    # display a message prompting the user to enter positions\n",
    "    output_ui.clear_output()\n",
    "    \n",
    "    with output_ui:\n",
    "        print(\"Enter the desired x and y positions and press 'Submit'\")"
   ]
  },
  {
   "cell_type": "code",
   "execution_count": 23,
   "id": "09835312",
   "metadata": {
    "ExecuteTime": {
     "end_time": "2024-09-10T19:44:37.599627Z",
     "start_time": "2024-09-10T19:44:37.585734Z"
    }
   },
   "outputs": [],
   "source": [
    "# function to submit goal positions\n",
    "def submit_goal_positions(b):\n",
    "    \n",
    "    pos = GoalRequest()\n",
    "    pos.x = float(x_position.value)\n",
    "    pos.y = float(y_position.value)\n",
    "    \n",
    "    robot_position.goal_callback(x_position.value, y_position.value)\n",
    "\n",
    "    with output_ui:\n",
    "        print(\"The goal position is sent to the controller\")\n",
    "        \n",
    "    try:\n",
    "        client_goal.wait_for_service()\n",
    "        \n",
    "        client_goal.call(pos)\n",
    "    \n",
    "    except rospy.ServiceException as e:\n",
    "        with output_ui:\n",
    "            print(f\"Service call failed: {e}\")\n"
   ]
  },
  {
   "cell_type": "code",
   "execution_count": 24,
   "id": "708ab104",
   "metadata": {
    "ExecuteTime": {
     "end_time": "2024-09-10T19:44:38.388800Z",
     "start_time": "2024-09-10T19:44:38.376908Z"
    }
   },
   "outputs": [],
   "source": [
    "# Function to handle manual drive mode\n",
    "def manual_drive(b):\n",
    "    \n",
    "    output_ui.clear_output()\n",
    "    with output_ui:\n",
    "        print(\"You are in the manual drive mode, You can use teleop to control the robot.\")\n",
    "    \n",
    "    com = InterfaceRequest()\n",
    "    com.command = ord('m')\n",
    "    client_interface.wait_for_service()\n",
    "    client_interface.call(com)\n",
    "    \n",
    "    show_teleop_interface()\n",
    "    \n",
    "    # initially hide the input fields\n",
    "    x_position.layout.display = 'none'\n",
    "    y_position.layout.display = 'none'\n",
    "    submit_button.layout.display = 'none'\n",
    "    cancel_button.layout.display = 'none'\n",
    "    "
   ]
  },
  {
   "cell_type": "code",
   "execution_count": 25,
   "id": "36b201d8",
   "metadata": {
    "ExecuteTime": {
     "end_time": "2024-09-10T19:44:39.212659Z",
     "start_time": "2024-09-10T19:44:39.204328Z"
    }
   },
   "outputs": [],
   "source": [
    "# Function to handle assisted drive mode\n",
    "def assisted_drive(b):\n",
    "    \n",
    "    output_ui.clear_output()\n",
    "    with output_ui:\n",
    "        print(\"Now you are in the assisted drive mode\")\n",
    "    \n",
    "    com = InterfaceRequest()\n",
    "    com.command = ord('d')\n",
    "    client_interface.wait_for_service()\n",
    "    client_interface.call(com)\n",
    "    \n",
    "    show_teleop_interface()\n",
    "    \n",
    "    # initially hide the input fields\n",
    "    x_position.layout.display = 'none'\n",
    "    y_position.layout.display = 'none'\n",
    "    submit_button.layout.display = 'none'\n",
    "    cancel_button.layout.display = 'none'"
   ]
  },
  {
   "cell_type": "code",
   "execution_count": 26,
   "id": "9b225bf2",
   "metadata": {
    "ExecuteTime": {
     "end_time": "2024-09-10T19:44:39.996658Z",
     "start_time": "2024-09-10T19:44:39.987672Z"
    }
   },
   "outputs": [],
   "source": [
    "# Function to cancel the goal\n",
    "def cancel_goal(b):\n",
    "    \n",
    "    com = InterfaceRequest()\n",
    "    com.command = ord('c')\n",
    "    client_interface.wait_for_service()\n",
    "    client_interface.call(com)\n",
    "    \n",
    "    update_status_counts(\"Cancelled\")\n",
    "    \n",
    "    output_ui.clear_output()\n",
    "    with output_ui:\n",
    "        print(\"Goal has been cancelled\")\n",
    "    \n",
    "    # make the x and y position inputs visible\n",
    "    x_position.layout.display = 'block'\n",
    "    y_position.layout.display = 'block'\n",
    "    submit_button.layout.display = 'block'\n",
    "    cancel_button.layout.display = 'block'"
   ]
  },
  {
   "cell_type": "code",
   "execution_count": 27,
   "id": "da1d1d8e",
   "metadata": {
    "ExecuteTime": {
     "end_time": "2024-09-10T19:44:40.803968Z",
     "start_time": "2024-09-10T19:44:40.795882Z"
    }
   },
   "outputs": [],
   "source": [
    "# set the button callbacks\n",
    "auto_button.on_click(auto_drive)\n",
    "submit_button.on_click(submit_goal_positions)\n",
    "manual_button.on_click(manual_drive)\n",
    "assisted_button.on_click(assisted_drive)\n",
    "cancel_button.on_click(cancel_goal)\n",
    "show_obstacle_button.on_click(show_obstacle)"
   ]
  },
  {
   "cell_type": "code",
   "execution_count": 28,
   "id": "6341911f",
   "metadata": {
    "ExecuteTime": {
     "end_time": "2024-09-10T19:44:41.638613Z",
     "start_time": "2024-09-10T19:44:41.632458Z"
    }
   },
   "outputs": [],
   "source": [
    "goal_button.on_click(show_goal_status)"
   ]
  },
  {
   "cell_type": "code",
   "execution_count": 29,
   "id": "86635330",
   "metadata": {
    "ExecuteTime": {
     "end_time": "2024-09-10T19:44:42.721631Z",
     "start_time": "2024-09-10T19:44:42.683453Z"
    }
   },
   "outputs": [],
   "source": [
    "# organize the buttons into rows\n",
    "row1 = VBox([HBox([auto_button, manual_button, assisted_button]), teleop_output])\n",
    "row2 = HBox([submit_button, cancel_button])\n"
   ]
  },
  {
   "cell_type": "markdown",
   "id": "eee20be3",
   "metadata": {},
   "source": [
    "## Robot position tracker and Obstacle Detector"
   ]
  },
  {
   "cell_type": "code",
   "execution_count": 30,
   "id": "02113b88",
   "metadata": {
    "ExecuteTime": {
     "end_time": "2024-09-10T19:44:44.594639Z",
     "start_time": "2024-09-10T19:44:44.268473Z"
    },
    "scrolled": false
   },
   "outputs": [
    {
     "data": {
      "application/vnd.jupyter.widget-view+json": {
       "model_id": "470b9ba239084f5c95a0d3fd8359ba19",
       "version_major": 2,
       "version_minor": 0
      },
      "text/plain": [
       "Canvas(toolbar=Toolbar(toolitems=[('Home', 'Reset original view', 'home', 'home'), ('Back', 'Back to previous …"
      ]
     },
     "metadata": {},
     "output_type": "display_data"
    },
    {
     "data": {
      "application/vnd.jupyter.widget-view+json": {
       "model_id": "1df8a3d5cef24130be33801b5daac67d",
       "version_major": 2,
       "version_minor": 0
      },
      "text/plain": [
       "Canvas(toolbar=Toolbar(toolitems=[('Home', 'Reset original view', 'home', 'home'), ('Back', 'Back to previous …"
      ]
     },
     "metadata": {},
     "output_type": "display_data"
    },
    {
     "data": {
      "application/vnd.jupyter.widget-view+json": {
       "model_id": "9f680d592cef464e9629ae86a2f5498f",
       "version_major": 2,
       "version_minor": 0
      },
      "text/plain": [
       "Button(description='Show Detected Obstacle', layout=Layout(height='50px', width='150px'), style=ButtonStyle(bu…"
      ]
     },
     "metadata": {},
     "output_type": "display_data"
    }
   ],
   "source": [
    "robot_position = Tracker()\n",
    "# Subscribes to the '/odom' topic, which provides odometry messages, and attaches the 'odom_callback' function to process incoming messages.\n",
    "jr.subscribe('/odom', Odometry, robot_position.odom_callback)\n",
    "jr.subscribe('/scan', LaserScan, robot_position. scan_callback)\n",
    "jr.subscribe('/goal_status',String, goal_status_callback)\n",
    "display(show_obstacle_button)\n",
    "# show the figure\n",
    "plt.show(block = False)"
   ]
  },
  {
   "cell_type": "markdown",
   "id": "aa7302a1",
   "metadata": {},
   "source": [
    "## Goal Status Histogram and Pie chart"
   ]
  },
  {
   "cell_type": "code",
   "execution_count": 31,
   "id": "fe632378",
   "metadata": {
    "ExecuteTime": {
     "end_time": "2024-09-10T19:44:46.621672Z",
     "start_time": "2024-09-10T19:44:46.612776Z"
    },
    "scrolled": true
   },
   "outputs": [
    {
     "data": {
      "application/vnd.jupyter.widget-view+json": {
       "model_id": "cb3fd023bc3e49aa942ffff2ba396af1",
       "version_major": 2,
       "version_minor": 0
      },
      "text/plain": [
       "Canvas(toolbar=Toolbar(toolitems=[('Home', 'Reset original view', 'home', 'home'), ('Back', 'Back to previous …"
      ]
     },
     "metadata": {},
     "output_type": "display_data"
    },
    {
     "data": {
      "application/vnd.jupyter.widget-view+json": {
       "model_id": "7a703f783dac4b509923bd77fec90d10",
       "version_major": 2,
       "version_minor": 0
      },
      "text/plain": [
       "Button(description='Plot Goal Statuses', layout=Layout(height='50px', width='150px'), style=ButtonStyle(button…"
      ]
     },
     "metadata": {},
     "output_type": "display_data"
    }
   ],
   "source": [
    "display(goal_button)"
   ]
  },
  {
   "cell_type": "markdown",
   "id": "03895859",
   "metadata": {},
   "source": [
    "## User Interface Keyboard "
   ]
  },
  {
   "cell_type": "code",
   "execution_count": 32,
   "id": "891934b1",
   "metadata": {
    "ExecuteTime": {
     "end_time": "2024-09-10T19:44:55.177820Z",
     "start_time": "2024-09-10T19:44:55.135653Z"
    },
    "scrolled": true
   },
   "outputs": [
    {
     "name": "stdout",
     "output_type": "stream",
     "text": [
      "\n",
      "Please select a driving mode: \n"
     ]
    },
    {
     "data": {
      "text/html": [
       "<style> .widget-button { margin: 5px 10px; } </style>"
      ],
      "text/plain": [
       "<IPython.core.display.HTML object>"
      ]
     },
     "metadata": {},
     "output_type": "display_data"
    },
    {
     "data": {
      "application/vnd.jupyter.widget-view+json": {
       "model_id": "4cec18d6db5a4d9cb81f4536be254fe9",
       "version_major": 2,
       "version_minor": 0
      },
      "text/plain": [
       "VBox(children=(HBox(children=(Button(description='Auto Drive', layout=Layout(height='50px', width='150px'), st…"
      ]
     },
     "metadata": {},
     "output_type": "display_data"
    },
    {
     "data": {
      "application/vnd.jupyter.widget-view+json": {
       "model_id": "f970fbcd9fee45b390e8d2a8209158bb",
       "version_major": 2,
       "version_minor": 0
      },
      "text/plain": [
       "VBox(children=(FloatText(value=0.0, description='X Position', layout=Layout(display='none')), FloatText(value=…"
      ]
     },
     "metadata": {},
     "output_type": "display_data"
    }
   ],
   "source": [
    "print('')\n",
    "print('Please select a driving mode: ')\n",
    "# display the widgets\n",
    "display(HTML(\"<style> .widget-button { margin: 5px 10px; } </style>\"))\n",
    "display(row1)\n",
    "# display the X and Y position inputs and submit button below the buttons\n",
    "display(VBox([x_position, y_position, row2, output_ui]))"
   ]
  },
  {
   "cell_type": "markdown",
   "id": "490dd90d",
   "metadata": {},
   "source": [
    "## 3D Visualization "
   ]
  },
  {
   "cell_type": "code",
   "execution_count": 33,
   "id": "dbb8ab28",
   "metadata": {
    "ExecuteTime": {
     "end_time": "2024-09-10T19:49:17.500721Z",
     "start_time": "2024-09-10T19:49:17.489772Z"
    },
    "scrolled": true
   },
   "outputs": [
    {
     "data": {
      "application/vnd.jupyter.widget-view+json": {
       "model_id": "8fb45a5f3e4446aca2f8b5586e74cb46",
       "version_major": 2,
       "version_minor": 0
      },
      "text/plain": [
       "Viewer(layout=Layout(width='100%'), objects=[GridModel(), LaserScan(ros=ROSConnection(url='ws://localhost:9090…"
      ]
     },
     "metadata": {},
     "output_type": "display_data"
    }
   ],
   "source": [
    "display(map_3d)"
   ]
  },
  {
   "cell_type": "code",
   "execution_count": null,
   "id": "7ef31dbb",
   "metadata": {},
   "outputs": [],
   "source": []
  },
  {
   "cell_type": "code",
   "execution_count": null,
   "id": "3046e57d",
   "metadata": {},
   "outputs": [],
   "source": []
  }
 ],
 "metadata": {
  "hide_input": false,
  "kernelspec": {
   "display_name": "Python 3 (ipykernel)",
   "language": "python",
   "name": "python3"
  },
  "language_info": {
   "codemirror_mode": {
    "name": "ipython",
    "version": 3
   },
   "file_extension": ".py",
   "mimetype": "text/x-python",
   "name": "python",
   "nbconvert_exporter": "python",
   "pygments_lexer": "ipython3",
   "version": "3.8.10"
  },
  "toc": {
   "base_numbering": 1,
   "nav_menu": {},
   "number_sections": true,
   "sideBar": true,
   "skip_h1_title": false,
   "title_cell": "Table of Contents",
   "title_sidebar": "Contents",
   "toc_cell": false,
   "toc_position": {},
   "toc_section_display": true,
   "toc_window_display": false
  },
  "varInspector": {
   "cols": {
    "lenName": 16,
    "lenType": 16,
    "lenVar": 40
   },
   "kernels_config": {
    "python": {
     "delete_cmd_postfix": "",
     "delete_cmd_prefix": "del ",
     "library": "var_list.py",
     "varRefreshCmd": "print(var_dic_list())"
    },
    "r": {
     "delete_cmd_postfix": ") ",
     "delete_cmd_prefix": "rm(",
     "library": "var_list.r",
     "varRefreshCmd": "cat(var_dic_list()) "
    }
   },
   "types_to_exclude": [
    "module",
    "function",
    "builtin_function_or_method",
    "instance",
    "_Feature"
   ],
   "window_display": false
  }
 },
 "nbformat": 4,
 "nbformat_minor": 5
}
